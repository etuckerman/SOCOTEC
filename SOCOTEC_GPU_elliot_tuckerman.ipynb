{
  "nbformat": 4,
  "nbformat_minor": 0,
  "metadata": {
    "colab": {
      "provenance": [],
      "machine_shape": "hm",
      "gpuType": "T4",
      "authorship_tag": "ABX9TyNJhEpJA/EqVieWvyfmZZWF",
      "include_colab_link": true
    },
    "kernelspec": {
      "name": "python3",
      "display_name": "Python 3"
    },
    "language_info": {
      "name": "python"
    },
    "accelerator": "GPU"
  },
  "cells": [
    {
      "cell_type": "markdown",
      "metadata": {
        "id": "view-in-github",
        "colab_type": "text"
      },
      "source": [
        "<a href=\"https://colab.research.google.com/github/etuckerman/SOCOTEC/blob/main/SOCOTEC_GPU_elliot_tuckerman.ipynb\" target=\"_parent\"><img src=\"https://colab.research.google.com/assets/colab-badge.svg\" alt=\"Open In Colab\"/></a>"
      ]
    },
    {
      "cell_type": "code",
      "source": [
        "# Dataset Creation: Mapping Natural Language Prompts to Function Calls\n",
        "dataset = [\n",
        "    {\"input\": \"Calculate the sum of 7 and 3.\", \"output\": \"add(7, 3)\"},\n",
        "    {\"input\": \"What's the square of 5?\", \"output\": \"square(5)\"},\n",
        "    {\"input\": \"Tell me the cube of 2.\", \"output\": \"cube(2)\"},\n",
        "    {\"input\": \"Add 12 to 8.\", \"output\": \"add(12, 8)\"},\n",
        "    {\"input\": \"What is 4 squared?\", \"output\": \"square(4)\"},\n",
        "    {\"input\": \"Compute the cube of 4.\", \"output\": \"cube(4)\"},\n",
        "    {\"input\": \"Say hello to John.\", \"output\": \"greet('John')\"},\n",
        "    {\"input\": \"What's 10 + 20?\", \"output\": \"add(10, 20)\"},\n",
        "    {\"input\": \"Find the square of 3.\", \"output\": \"square(3)\"},\n",
        "    {\"input\": \"Calculate the cube of 5.\", \"output\": \"cube(5)\"},\n",
        "    {\"input\": \"Greet Alice for me.\", \"output\": \"greet('Alice')\"},\n",
        "    {\"input\": \"What's 2 + 3?\", \"output\": \"add(2, 3)\"},\n",
        "    {\"input\": \"Calculate 6 squared.\", \"output\": \"square(6)\"},\n",
        "    {\"input\": \"Give me the cube value of 8.\", \"output\": \"cube(8)\"},\n",
        "    {\"input\": \"Say hi to Bob.\", \"output\": \"greet('Bob')\"},\n",
        "    {\"input\": \"Add 15 and 9.\", \"output\": \"add(15, 9)\"},\n",
        "    {\"input\": \"What is 7 cubed?\", \"output\": \"cube(7)\"},\n",
        "    {\"input\": \"Calculate 4 cubed.\", \"output\": \"cube(4)\"},\n",
        "    {\"input\": \"Square the number 6.\", \"output\": \"square(6)\"},\n",
        "    {\"input\": \"Say hello to Sarah.\", \"output\": \"greet('Sarah')\"},\n",
        "    {\"input\": \"What is 5 + 5?\", \"output\": \"add(5, 5)\"},\n",
        "    {\"input\": \"What is 3 squared?\", \"output\": \"square(3)\"},\n",
        "    {\"input\": \"Tell me the cube of 10.\", \"output\": \"cube(10)\"}\n",
        "]\n"
      ],
      "metadata": {
        "id": "TMmiRMSC0D0Q"
      },
      "execution_count": 10,
      "outputs": []
    },
    {
      "cell_type": "code",
      "source": [
        "# Function Library\n",
        "def add(a, b):\n",
        "    \"\"\"Return the sum of two numbers.\"\"\"\n",
        "    return a + b\n",
        "\n",
        "def square(a):\n",
        "    \"\"\"Return the square of a number.\"\"\"\n",
        "    return a ** 2\n",
        "\n",
        "def cube(a):\n",
        "    \"\"\"Return the cube of a number.\"\"\"\n",
        "    return a ** 3\n",
        "\n",
        "def greet(name):\n",
        "    \"\"\"Return a greeting string.\"\"\"\n",
        "    return f\"Hello, {name}!\"\n"
      ],
      "metadata": {
        "id": "ED0rJDYJ2YQY"
      },
      "execution_count": 11,
      "outputs": []
    },
    {
      "cell_type": "code",
      "source": [],
      "metadata": {
        "id": "v6gk7nH_2aUb"
      },
      "execution_count": null,
      "outputs": []
    }
  ]
}